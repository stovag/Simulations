{
  "nbformat": 4,
  "nbformat_minor": 0,
  "metadata": {
    "colab": {
      "name": "SimulationsCode.ipynb",
      "provenance": [],
      "collapsed_sections": []
    },
    "kernelspec": {
      "name": "python3",
      "display_name": "Python 3"
    },
    "language_info": {
      "name": "python"
    }
  },
  "cells": [
    {
      "cell_type": "markdown",
      "source": [
        "# Ονοματεπώνυμο: Τσιβούλα Σοφία\n",
        "## Α.Μ Π2018130\n",
        "\n",
        "Το παρακάτω αρχείο ipynb περιέχει την αναφορά εργαστηρίων για το μάθημα \"ΠΡΟΣΟΜΟΙΩΣΗ ΚΑΙ ΜΟΝΤΕΛΟΠΟΙΗΣΗ\" του Ζ'εξαμήνου. \n",
        "\n",
        "Ο κώδικας για την αναφορά έχει γραφεί σε γλώσσα προγραμματισμού Python (https://www.python.org/). Ο κώδικας γράφηκε και υλοποιήθηκε στην πλατφόρμα Google Collab (https://colab.research.google.com/) "
      ],
      "metadata": {
        "id": "ljYJuULC73so"
      }
    },
    {
      "cell_type": "markdown",
      "source": [
        "Αρχικά γίνονται import οι κατάλληλες βιβλιοθήκες για την δημιουργία διαγραμμάτων και για την υλοποίση κώδικα"
      ],
      "metadata": {
        "id": "iIfgGMRWvB9u"
      }
    },
    {
      "cell_type": "code",
      "execution_count": 1,
      "metadata": {
        "id": "47w8SAvStiCm"
      },
      "outputs": [],
      "source": [
        "# η numpy χρησιμοποιείται για την καλύτερη δημιουργία και απεικόνιση πινάκων\n",
        "import numpy as np\n",
        "\n",
        "# η matplotlib είναι βιβλιοθήκη που βοηθά στην δημιουργία διαγραμμάτων\n",
        "from matplotlib import pyplot as plt\n",
        "\n",
        "# η random είναι μια βιβλιοθήκη που βοηθά στην παραγωγή ψευδοτυχαίων ακεραίων αριθμών\n",
        "import random"
      ]
    },
    {
      "cell_type": "markdown",
      "source": [
        "# Εργαστήριο 1 (18.10.2021)\n",
        "\n",
        "## Περίπτωση 1:\n",
        "\n",
        "Οι Η/Υ του δικτύου δεν διαθέτουν εγκατεστημένο λογισμικό προστασίας (antivirus)\n",
        "και σε κάθε χρονική στιγμή ο κάθε μολυσμένος Η/Υ επιλέγει με τυχαίο τρόπο να\n",
        "μολύνει άλλον ένα ακόμα Η/Υ.\n",
        "1. Να γράψετε κατάλληλο κώδικα σε γλώσσα προγραμματισμού της επιλογής\n",
        "σας (C, Java, Python κλπ κλπ) που να προσομοιώνει το παραπάνω πρόβλημα.\n",
        "\n",
        "2. Να παραστήσετε γραφικά τον αριθμό μολυσμένων Η/Υ σε συνάρτηση με το\n",
        "χρόνο.\n"
      ],
      "metadata": {
        "id": "j94iGV-nvfR5"
      }
    },
    {
      "cell_type": "code",
      "source": [
        "# variables\n",
        "\n",
        "# το πλήθος των υπολογιστών\n",
        "N = 1000\n",
        "\n",
        "# πίνακας 2D για την δημιουργία του simulation\n",
        "system = np.zeros(N)\n",
        "\n",
        "# υγιείς κόμβοι (όσοι δεν έχουν μολυνθεί ακόμα).\n",
        "healthyNodes = 0 \n",
        "\n",
        "# το πλήθος των μολυσμένων υπολογιστών\n",
        "infectedNodes = 0\n",
        "\n",
        "# το πλήθος των μολυσμένων υπολογιστών στο συγκεκριμένο timestep\n",
        "currentInfected = 0 \n",
        "\n",
        "# πίνακας για αποθήκευση των μολυσμένων κόμβων\n",
        "infectedArray = []"
      ],
      "metadata": {
        "id": "80BlpyhavduL"
      },
      "execution_count": 2,
      "outputs": []
    },
    {
      "cell_type": "code",
      "source": [
        "# παράγεται ένας τυχαίος ακέραιος για να μολυνθεί \n",
        "x = random.randint(0, N-1)\n",
        "\n",
        "system[x] = 1\n",
        "\n",
        "# αυξάνεται ο αριθμός των μιλυσμένων και προστέθεται στο infectedArray\n",
        "currentInfected = currentInfected + 1\n",
        "infectedNodes = infectedNodes + 1\n",
        "infectedArray.append(currentInfected)\n",
        "\n",
        "# υλοποιείται η διαδικασία της μόλυνσης μέχρι να μολυνθούν όλοι οι υπολογιστές\n",
        "while infectedNodes < N:\n",
        "  infect = random.randint(0, N-1)\n",
        "\n",
        "  # αν ο υπολογιστής δεν είναι μολυσμένος (έχει δηλαδή την τιμή 0)\n",
        "  if system[infect] == 0:\n",
        "    # μόλυνέ τον αλλάζοντας την τιμή του σε 1\n",
        "    system[infect] = 1\n",
        "    currentInfected += 1\n",
        "    infectedNodes += 1 \n",
        "  # προσθήκη του μολυσμένου υπολογιστή στον πίνακα\n",
        "  infectedArray.append(currentInfected)"
      ],
      "metadata": {
        "id": "iL3tdWWRvd3R"
      },
      "execution_count": 3,
      "outputs": []
    },
    {
      "cell_type": "code",
      "source": [
        "# δημιουργία κατάλληλων γραφήμάτων\n",
        "rateGrouth= []\n",
        "\n",
        "# υπολογισμός του αριθμού μολύνσεων σε κάθε βήμα\n",
        "for i in range (len(infectedArray)-1):\n",
        "  rate = infectedArray[i+1] - infectedArray[i]\n",
        "  rateGrouth.append(rate)\n",
        "\n",
        "# εμφάνηση του πίνακα με τα δεδομένα μολύνσεων σε κάθε βήμα\n",
        "print(\"\\n Βήματα: \" , len(rateGrouth))\n",
        "plt.plot(rateGrouth)\n",
        "plt.title(\"Infection Rate per Step\")\n",
        "plt.show()\n",
        "\n",
        "plt.plot(infectedArray)\n",
        "plt.title(\"Infected per Step\")\n",
        "plt.show()\n"
      ],
      "metadata": {
        "colab": {
          "base_uri": "https://localhost:8080/",
          "height": 580
        },
        "id": "npSByUMmvd-K",
        "outputId": "38598eb6-59f1-4a7c-e303-37f65573de2b"
      },
      "execution_count": 4,
      "outputs": [
        {
          "output_type": "stream",
          "name": "stdout",
          "text": [
            "\n",
            " Βήματα:  6425\n"
          ]
        },
        {
          "output_type": "display_data",
          "data": {
            "image/png": "[encoded data removed]",
            "text/plain": [
              "<Figure size 432x288 with 1 Axes>"
            ]
          },
          "metadata": {
            "needs_background": "light"
          }
        },
        {
          "output_type": "display_data",
          "data": {
            "image/png": "[encoded data removed]",
            "text/plain": [
              "<Figure size 432x288 with 1 Axes>"
            ]
          },
          "metadata": {
            "needs_background": "light"
          }
        }
      ]
    },
    {
      "cell_type": "markdown",
      "source": [
        "# Εργαστήριο 2 (25.10.2021)\n",
        "\n",
        "# Περίπτωση 1\n",
        "\n",
        "Μεταβάλλοντας το ρυθμό μετάδοσης β του κακόβουλου λογισμικού στη\n",
        "μονάδα του χρόνου, να παραστήσετε γραφικά την εξέλιξη του πληθυσμού\n",
        "των μολυσμένων Η/Υ σε συνάρτηση με το χρόνο. Τι παρατηρείτε; \n",
        "\n"
      ],
      "metadata": {
        "id": "ZOU42waY2Qw1"
      }
    },
    {
      "cell_type": "markdown",
      "source": [
        "Η περίπτωση 1 αφορά ένα σύστημα Η/Υ όπου σε βάθος χόνου, ο κάθε ένας μολυσμένος Η/Υ μπορεί να μολύνει έναν υγιή. "
      ],
      "metadata": {
        "id": "LDqXawVi6o6X"
      }
    },
    {
      "cell_type": "code",
      "source": [
        "# variables\n",
        "\n",
        "# το πλήθος των υπολογιστών\n",
        "N = 1000\n",
        "# πίνακας 2D για την δημιουργία του simulation\n",
        "system = np.zeros(N)\n",
        "# υγιείς κόμβοι (όσοι δεν έχουν μολυνθεί ακόμα).\n",
        "healthyNodes = 0 \n",
        "# το πλήθος των μολυσμένων υπολογιστών\n",
        "infectedNodes = 0\n",
        "# το πλήθος των μολυσμένων υπολογιστών στο συγκεκριμένο timestep\n",
        "currentInfected = 0 \n",
        "# πίνακας για αποθήκευση των μολυσμένων κόμβων\n",
        "infectedArray_chain = []"
      ],
      "metadata": {
        "id": "ZU4xu1h_3Kl1"
      },
      "execution_count": 5,
      "outputs": []
    },
    {
      "cell_type": "code",
      "source": [
        "# παράγεται ένας τυχαίος ακέραιος για να μολυνθεί \n",
        "x = random.randint(0, N-1)\n",
        "system[x] = 1\n",
        "\n",
        "# αυξάνεται ο αριθμός των μολυσμένων και προστέθεται στο infectedArray\n",
        "currentInfected = currentInfected + 1\n",
        "infectedNodes = infectedNodes + 1\n",
        "infectedArray.append(currentInfected)\n",
        "\n",
        "# υλοποιείται η διαδικασία της μόλυνσης μέχρι να μολυνθούν όλοι οι υπολογιστές\n",
        "while infectedNodes < N:\n",
        "  # για κάθε μολυσμένο υπολογιστή βρες έναν υπολογστή να μολύνεις\n",
        "  for i in range (0,currentInfected):\n",
        "    infect = random.randint(0, N-1)\n",
        "    # αν ο Η/Υ είναι υγιής τότε γίνεται η μόλυνση\n",
        "    if system[infect] == 0:\n",
        "      system[infect] = 1\n",
        "      currentInfected += 1\n",
        "      infectedNodes += 1 \n",
        "  infectedArray_chain.append(currentInfected)"
      ],
      "metadata": {
        "id": "ON8NqSes3KsA"
      },
      "execution_count": 6,
      "outputs": []
    },
    {
      "cell_type": "code",
      "source": [
        "# δημιουργία κατάλληλων γραφήμάτων\n",
        "rateGrouth_chain= []\n",
        "for i in range (len(infectedArray_chain)-1):\n",
        "  rate = infectedArray_chain[i+1] - infectedArray_chain[i]\n",
        "  rateGrouth_chain.append(rate)\n",
        "\n",
        "print(rateGrouth_chain)\n",
        "plt.plot(rateGrouth_chain)\n",
        "plt.title(\"Infection Rate per Step\")\n",
        "plt.show()\n",
        "\n",
        "print(infectedArray_chain)\n",
        "plt.plot(infectedArray_chain)\n",
        "plt.title(\"Infected per Step\")\n",
        "plt.show()\n"
      ],
      "metadata": {
        "colab": {
          "base_uri": "https://localhost:8080/",
          "height": 580
        },
        "id": "C47yjB6J3Kv2",
        "outputId": "1634246d-a658-48c5-d631-ae15358f99b7"
      },
      "execution_count": 7,
      "outputs": [
        {
          "output_type": "stream",
          "name": "stdout",
          "text": [
            "[2, 4, 8, 16, 29, 56, 100, 158, 200, 184, 128, 65, 32, 9, 5, 2]\n"
          ]
        },
        {
          "output_type": "display_data",
          "data": {
            "image/png": "[encoded data removed]",
            "text/plain": [
              "<Figure size 432x288 with 1 Axes>"
            ]
          },
          "metadata": {
            "needs_background": "light"
          }
        },
        {
          "output_type": "stream",
          "name": "stdout",
          "text": [
            "[2, 4, 8, 16, 32, 61, 117, 217, 375, 575, 759, 887, 952, 984, 993, 998, 1000]\n"
          ]
        },
        {
          "output_type": "display_data",
          "data": {
            "image/png": "[encoded data removed]",
            "text/plain": [
              "<Figure size 432x288 with 1 Axes>"
            ]
          },
          "metadata": {
            "needs_background": "light"
          }
        }
      ]
    },
    {
      "cell_type": "markdown",
      "source": [
        "# Εργαστήριο 3 (1.11.2021)\n",
        "## Περίπτωση 2\n",
        "\n",
        "Η πιθανότητα μόλυνσης από ένα μολύσμένο Η/Υ γίνεται με μια x τιμή πιθανότητας. \n",
        "\n",
        "Θα πραγματοποιηθούν 2 υλοποιήσεις για 2 διαφορετικές τιμές πιθανότητας\n",
        "1. 10% πιθανότητα μόλυσης\n",
        "2. 50% πιαθνότητα μόλυνσης"
      ],
      "metadata": {
        "id": "ZfGde-iw50se"
      }
    },
    {
      "cell_type": "code",
      "source": [
        "# Περίπτωση για μόλυνση με πιθανότητα 10%\n",
        "\n",
        "# variables\n",
        "\n",
        "# το πλήθος των υπολογιστών\n",
        "N = 1000\n",
        "# πίνακας 2D για την δημιουργία του simulation\n",
        "system = np.zeros(N)\n",
        "# υγιείς κόμβοι (όσοι δεν έχουν μολυνθεί ακόμα).\n",
        "healthyNodes = 0 \n",
        "# το πλήθος των μολυσμένων υπολογιστών\n",
        "infectedNodes = 0\n",
        "# το πλήθος των μολυσμένων υπολογιστών στο συγκεκριμένο timestep\n",
        "currentInfected = 0 \n",
        "# πίνακας για αποθήκευση των μολυσμένων κόμβων\n",
        "infectedArray_10p = []"
      ],
      "metadata": {
        "id": "yEYXtttICe7G"
      },
      "execution_count": 8,
      "outputs": []
    },
    {
      "cell_type": "code",
      "source": [
        "# παράγεται ένας τυχαίος ακέραιος για να μολυνθεί \n",
        "x = random.randint(0, N-1)\n",
        "system[x] = 1\n",
        "\n",
        "# αυξάνεται ο αριθμός των μολυσμένων και προστέθεται στο infectedArray\n",
        "currentInfected = currentInfected + 1\n",
        "infectedNodes = infectedNodes + 1\n",
        "infectedArray.append(currentInfected)\n",
        "\n",
        "# υλοποιείται η διαδικασία της μόλυνσης μέχρι να μολυνθούν όλοι οι υπολογιστές\n",
        "while infectedNodes < N:\n",
        "  # για κάθε μολυσμένο υπολογιστή βρες έναν υπολογστή να μολύνεις\n",
        "  for i in range (0,currentInfected):\n",
        "    infect = random.randint(0, N-1)\n",
        "\n",
        "    # παραγωγή ενός τυχαίου αριθμού απο το 1 έως το 10\n",
        "    possibility = random.randint(1,10)\n",
        "    # αν ο αριθμός που επιλέχθηκε είναι το ένα, τότε γίνεται η μόλυνση, αλλιώς, δεν γίνεται\n",
        "    if possibility == 1:\n",
        "      # αν ο Η/Υ είναι υγιής τότε γίνεται η μόλυνση\n",
        "      if system[infect] == 0:\n",
        "        system[infect] = 1\n",
        "        currentInfected += 1\n",
        "        infectedNodes += 1 \n",
        "  infectedArray_10p.append(currentInfected)"
      ],
      "metadata": {
        "id": "jd6ZjogWCe_J"
      },
      "execution_count": 9,
      "outputs": []
    },
    {
      "cell_type": "code",
      "source": [
        "# δημιουργία κατάλληλων γραφήμάτων\n",
        "rateGrouth_10p = []\n",
        "for i in range (len(infectedArray_10p)-1):\n",
        "  rate = infectedArray_10p[i+1] - infectedArray_10p[i]\n",
        "  rateGrouth_10p.append(rate)\n",
        "\n",
        "print(len(infectedArray))\n",
        "plt.plot(rateGrouth_10p)\n",
        "plt.title(\"Infection Rate per Step\")\n",
        "plt.show()\n",
        "\n",
        "print(\"\\n\")\n",
        "plt.plot(infectedArray_10p)\n",
        "plt.title(\"Infected per Step\")\n",
        "plt.show()\n"
      ],
      "metadata": {
        "colab": {
          "base_uri": "https://localhost:8080/",
          "height": 597
        },
        "id": "Ge0wovv7CfDk",
        "outputId": "babc8a39-e078-41c6-e92f-186bcb650b5c"
      },
      "execution_count": 10,
      "outputs": [
        {
          "output_type": "stream",
          "name": "stdout",
          "text": [
            "6428\n"
          ]
        },
        {
          "output_type": "display_data",
          "data": {
            "image/png": "[encoded data removed]",
            "text/plain": [
              "<Figure size 432x288 with 1 Axes>"
            ]
          },
          "metadata": {
            "needs_background": "light"
          }
        },
        {
          "output_type": "stream",
          "name": "stdout",
          "text": [
            "\n",
            "\n"
          ]
        },
        {
          "output_type": "display_data",
          "data": {
            "image/png": "[encoded data removed]",
            "text/plain": [
              "<Figure size 432x288 with 1 Axes>"
            ]
          },
          "metadata": {
            "needs_background": "light"
          }
        }
      ]
    },
    {
      "cell_type": "markdown",
      "source": [
        "Μόλυνση με πιθανότητα 50% σε κάθε timestep"
      ],
      "metadata": {
        "id": "DvHngUBmEf6r"
      }
    },
    {
      "cell_type": "code",
      "source": [
        "# Περίπτωση για μόλυνση με πιθανότητα 50%\n",
        "\n",
        "# variables\n",
        "\n",
        "# το πλήθος των υπολογιστών\n",
        "N = 1000\n",
        "# πίνακας 2D για την δημιουργία του simulation\n",
        "system = np.zeros(N)\n",
        "# υγιείς κόμβοι (όσοι δεν έχουν μολυνθεί ακόμα).\n",
        "healthyNodes = 0 \n",
        "# το πλήθος των μολυσμένων υπολογιστών\n",
        "infectedNodes = 0\n",
        "# το πλήθος των μολυσμένων υπολογιστών στο συγκεκριμένο timestep\n",
        "currentInfected = 0 \n",
        "# πίνακας για αποθήκευση των μολυσμένων κόμβων\n",
        "infectedArray_50p = []"
      ],
      "metadata": {
        "id": "PoAHXpzDEloK"
      },
      "execution_count": 11,
      "outputs": []
    },
    {
      "cell_type": "code",
      "source": [
        "# παράγεται ένας τυχαίος ακέραιος για να μολυνθεί \n",
        "x = random.randint(0, N-1)\n",
        "system[x] = 1\n",
        "\n",
        "# αυξάνεται ο αριθμός των μολυσμένων και προστέθεται στο infectedArray\n",
        "currentInfected = currentInfected + 1\n",
        "infectedNodes = infectedNodes + 1\n",
        "infectedArray.append(currentInfected)\n",
        "\n",
        "# υλοποιείται η διαδικασία της μόλυνσης μέχρι να μολυνθούν όλοι οι υπολογιστές\n",
        "while infectedNodes < N:\n",
        "  # για κάθε μολυσμένο υπολογιστή βρες έναν υπολογστή να μολύνεις\n",
        "  for i in range (0,currentInfected):\n",
        "    infect = random.randint(0, N-1)\n",
        "\n",
        "    # παραγωγή ενός τυχαίου αριθμού απο το 1 έως το 10\n",
        "    possibility = random.randint(1,10)\n",
        "    # αν ο αριθμός που επιλέχθηκε είναι το ένα, τότε γίνεται η μόλυνση, αλλιώς, δεν γίνεται\n",
        "    if possibility >=5 :\n",
        "      # αν ο Η/Υ είναι υγιής τότε γίνεται η μόλυνση\n",
        "      if system[infect] == 0:\n",
        "        system[infect] = 1\n",
        "        currentInfected += 1\n",
        "        infectedNodes += 1 \n",
        "  infectedArray_50p.append(currentInfected)"
      ],
      "metadata": {
        "id": "V0mE53kAElsg"
      },
      "execution_count": 12,
      "outputs": []
    },
    {
      "cell_type": "code",
      "source": [
        "# δημιουργία κατάλληλων γραφήμάτων\n",
        "rateGrouth_50p = []\n",
        "for i in range (len(infectedArray_50p)-1):\n",
        "  rate = infectedArray_50p[i+1] - infectedArray_50p[i]\n",
        "  rateGrouth_50p.append(rate)\n",
        "\n",
        "print(len(infectedArray))\n",
        "plt.plot(rateGrouth_50p)\n",
        "plt.title(\"Infection Rate per Step\")\n",
        "plt.show()\n",
        "\n",
        "print(\"\\n\")\n",
        "plt.plot(infectedArray_50p)\n",
        "plt.title(\"Infected per Step\")\n",
        "plt.show()\n"
      ],
      "metadata": {
        "colab": {
          "base_uri": "https://localhost:8080/",
          "height": 597
        },
        "id": "8KnhoDTwElwn",
        "outputId": "63ffcdef-2bba-426e-9b99-563709510aff"
      },
      "execution_count": 13,
      "outputs": [
        {
          "output_type": "stream",
          "name": "stdout",
          "text": [
            "6429\n"
          ]
        },
        {
          "output_type": "display_data",
          "data": {
            "image/png": "[encoded data removed]",
            "text/plain": [
              "<Figure size 432x288 with 1 Axes>"
            ]
          },
          "metadata": {
            "needs_background": "light"
          }
        },
        {
          "output_type": "stream",
          "name": "stdout",
          "text": [
            "\n",
            "\n"
          ]
        },
        {
          "output_type": "display_data",
          "data": {
            "image/png": "[encoded data removed]",
            "text/plain": [
              "<Figure size 432x288 with 1 Axes>"
            ]
          },
          "metadata": {
            "needs_background": "light"
          }
        }
      ]
    },
    {
      "cell_type": "markdown",
      "source": [
        "Στην επόμενη προσομοίωση προσωμοιάζεται ένα σενάριο όπου η μόλυνση γίνεται κάθε 3 timesteps"
      ],
      "metadata": {
        "id": "wtpi8r6_FJ7m"
      }
    },
    {
      "cell_type": "code",
      "source": [
        "# Περίπτωση για μόλυνση με πιθανότητα 50%\n",
        "\n",
        "# variables\n",
        "\n",
        "# το πλήθος των υπολογιστών\n",
        "N = 1000\n",
        "# πίνακας 2D για την δημιουργία του simulation\n",
        "system = np.zeros(N)\n",
        "# υγιείς κόμβοι (όσοι δεν έχουν μολυνθεί ακόμα).\n",
        "healthyNodes = 0 \n",
        "# το πλήθος των μολυσμένων υπολογιστών\n",
        "infectedNodes = 0\n",
        "# το πλήθος των μολυσμένων υπολογιστών στο συγκεκριμένο timestep\n",
        "currentInfected = 0 \n",
        "# πίνακας για αποθήκευση των μολυσμένων κόμβων\n",
        "infectedArray_3steps = []\n",
        "\n",
        "# προσθήκη counter για μείωση των βημάτων\n",
        "counter = 3"
      ],
      "metadata": {
        "id": "2IiXcmz5FeZe"
      },
      "execution_count": 14,
      "outputs": []
    },
    {
      "cell_type": "code",
      "source": [
        "# παράγεται ένας τυχαίος ακέραιος για να μολυνθεί \n",
        "x = random.randint(0, N-1)\n",
        "system[x] = 1\n",
        "\n",
        "# αυξάνεται ο αριθμός των μολυσμένων και προστέθεται στο infectedArray\n",
        "currentInfected = currentInfected + 1\n",
        "infectedNodes = infectedNodes + 1\n",
        "infectedArray.append(currentInfected)\n",
        "\n",
        "# υλοποιείται η διαδικασία της μόλυνσης μέχρι να μολυνθούν όλοι οι υπολογιστές\n",
        "while infectedNodes < N:\n",
        "  # για κάθε μολυσμένο υπολογιστή βρες έναν υπολογστή να μολύνεις\n",
        "  for i in range (0,currentInfected):\n",
        "    infect = random.randint(0, N-1)\n",
        "\n",
        "    # αν το counter έχει την τιμή 0, βάλε τιμή 3 για αρχικοποίηση\n",
        "    if counter != 0:\n",
        "      counter -= 1\n",
        "    else: \n",
        "      counter = 3\n",
        "      # αν ο Η/Υ είναι υγιής τότε γίνεται η μόλυνση\n",
        "      if system[infect] == 0:\n",
        "        system[infect] = 1\n",
        "        currentInfected += 1\n",
        "        infectedNodes += 1 \n",
        "  infectedArray_3steps.append(currentInfected)"
      ],
      "metadata": {
        "id": "jJLkapvtFedQ"
      },
      "execution_count": 15,
      "outputs": []
    },
    {
      "cell_type": "code",
      "source": [
        "# δημιουργία κατάλληλων γραφήμάτων\n",
        "rateGrouth_3steps = []\n",
        "for i in range (len(infectedArray_3steps)-1):\n",
        "  rate = infectedArray_3steps[i+1] - infectedArray_3steps[i]\n",
        "  rateGrouth_3steps.append(rate)\n",
        "\n",
        "print(len(infectedArray))\n",
        "plt.plot(rateGrouth_3steps)\n",
        "plt.title(\"Infection Rate per Step\")\n",
        "plt.show()\n",
        "\n",
        "print(\"\\n\")\n",
        "plt.plot(infectedArray_3steps)\n",
        "plt.title(\"Infected per Step\")\n",
        "plt.show()\n"
      ],
      "metadata": {
        "colab": {
          "base_uri": "https://localhost:8080/",
          "height": 597
        },
        "id": "9ICf71QzFehO",
        "outputId": "fa3010b7-aade-4559-d0a9-7012e1634007"
      },
      "execution_count": 16,
      "outputs": [
        {
          "output_type": "stream",
          "name": "stdout",
          "text": [
            "6430\n"
          ]
        },
        {
          "output_type": "display_data",
          "data": {
            "image/png": "[encoded data removed]",
            "text/plain": [
              "<Figure size 432x288 with 1 Axes>"
            ]
          },
          "metadata": {
            "needs_background": "light"
          }
        },
        {
          "output_type": "stream",
          "name": "stdout",
          "text": [
            "\n",
            "\n"
          ]
        },
        {
          "output_type": "display_data",
          "data": {
            "image/png": "[encoded data removed]",
            "text/plain": [
              "<Figure size 432x288 with 1 Axes>"
            ]
          },
          "metadata": {
            "needs_background": "light"
          }
        }
      ]
    },
    {
      "cell_type": "markdown",
      "source": [
        "Οπτικοποίηση όλων των διαγραμμάτων σε ένα για καλύτερη σύγκριση"
      ],
      "metadata": {
        "id": "jTUvfy7pIkK-"
      }
    },
    {
      "cell_type": "code",
      "source": [
        "# compare all diagramms\n",
        "# plt.plot(infectedArray, label = \"Default\")\n",
        "plt.plot(infectedArray_chain, label = \"All infected\")\n",
        "plt.plot(infectedArray_10p, label = \"10%\")\n",
        "plt.plot(infectedArray_50p, label = \"50%\")\n",
        "plt.plot(infectedArray_3steps, label = \"3 steps\")\n",
        "plt.legend()\n",
        "plt.show()\n"
      ],
      "metadata": {
        "colab": {
          "base_uri": "https://localhost:8080/",
          "height": 265
        },
        "id": "GcrYBydUIv4y",
        "outputId": "3213ce0e-4dcd-4dd7-8201-63555fae87f7"
      },
      "execution_count": 17,
      "outputs": [
        {
          "output_type": "display_data",
          "data": {
            "image/png": "[encoded data removed]",
            "text/plain": [
              "<Figure size 432x288 with 1 Axes>"
            ]
          },
          "metadata": {
            "needs_background": "light"
          }
        }
      ]
    },
    {
      "cell_type": "markdown",
      "source": [
        "# Εργαστήριο 3\n",
        "\n",
        "## Περίπτωση 2η\n",
        "Οι Η/Υ του δικτύου διαθέτουν εγκατεστημένο λογισμικό προστασίας (antivirus) και\n",
        "σε κάθε χρονική στιγμή ο κάθε μολυσμένος Η/Υ επιλέγει με τυχαίο τρόπο να μολύνει\n",
        "άλλον ένα ακόμα Η/Υ. Η ανοσία σε κάθε μολυσμένο κόμβο επέρχεται είτε μετά από\n",
        "σταθερό αριθμό βημάτων χρόνου (π.χ. 10 timesteps) μετά την μόλυνση είτε μετά από\n",
        "τυχαίο αριθμό βημάτων μεταξύ ενός διαστήματος βημάτων χρόνου (πχ. 1 έως 100\n",
        "timesteps) για να “γιατρευτεί” ο κάθε μολυσμένος κόμβος. Στην περίπτωση που\n",
        "γιατρεύεται ένας κόμβος θεωρούμε ότι εγκαθίσταται λογισμικό προστασίας και μετά\n",
        "από τα x timesteps υπάρχει ανοσία.\n",
        "\n",
        "1. Να τροποποιήσετε τον κώδικα του προηγούμενου εργαστηρίου ούτως ώστε\n",
        "να προσομοιώνει το παραπάνω πρόβλημα.\n",
        "\n",
        "2. Να παραστήσετε γραφικά τον αριθμό μολυσμένων Η/Υ σε συνάρτηση με το\n",
        "χρόνο.\n",
        "\n",
        "3. Μεταβάλλοντας το ρυθμό μετάδοσης β του κακόβουλου λογισμικού στη\n",
        "μονάδα του χρόνου, να παραστήσετε γραφικά την εξέλιξη του πληθυσμού\n",
        "των μολυσμένων Η/Υ σε συνάρτηση με το χρόνο. Τι παρατηρείτε;"
      ],
      "metadata": {
        "id": "b8xnM5b71Q4O"
      }
    },
    {
      "cell_type": "code",
      "source": [
        "# πλήθος Η/Υ\n",
        "N = 1000\n",
        "\n",
        "# αριθμός μολυσμένων Η/Υ\n",
        "infectedNodes = 0\n",
        "\n",
        "# αριθμός μολυσμένων στο συγκεκριμένο timestep\n",
        "currentInfected = 0\n",
        "\n",
        "# counter για τα timesteps για να έρθει η ανοσία\n",
        "immune_nodes = 0\n",
        "\n",
        "# σύστημα με ηλεκτρονικούς υπολογιστές\n",
        "system = []\n",
        "\n",
        "# πίνακας με το πλήθος των μολυσμένων\n",
        "dataArray = []\n",
        "\n",
        "# πίνακας με τους μολυσμένος κόμβους\n",
        "infected_array = []\n",
        "\n",
        "# πίνακας με τους κόμβους που έχουν ανοσία\n",
        "immune_array = []\n",
        "\n",
        "# Αν το state είναι 0 τότε είναι υγιής\n",
        "# Αν το state είναι 1 τότε είναι μολυσμένος\n",
        "# Αν το state είναι 2 τότε έχει ανοσία"
      ],
      "metadata": {
        "id": "8bafnWNfvlJZ"
      },
      "execution_count": 18,
      "outputs": []
    },
    {
      "cell_type": "code",
      "source": [
        "# δημιουργία κλάσης για τον Η/Υ (περιέχει τα timesteps\n",
        "# που χρειάζεται για να αποκτήσει ο κάθε υπολογιστής ανοσία στον ιό\n",
        "# και το state του κάθε υπολογιστή) \n",
        "class Computer:\n",
        "  def __init__ (self):\n",
        "    self.timestep = 10\n",
        "    self.state = 0\n",
        "    "
      ],
      "metadata": {
        "id": "4jAiwKCC1eUI"
      },
      "execution_count": 19,
      "outputs": []
    },
    {
      "cell_type": "code",
      "source": [
        "# Πρόσθεσε Ν αντικείμενα στο πίνακα system\n",
        "for _ in range(N):\n",
        "  system.append(Computer())\n",
        "\n",
        "# Δημιούργησε έναν x αριθμό κόμβων και μόλυνέ τον \n",
        "x = random.randint(0,N-1)\n",
        "system[x].state = 1 \n",
        "infected_array.append(x)\n",
        "\n",
        "# αυξάνεται ο αριθμός των μολυσμένων και προστέθεται στο dataArray\n",
        "currentInfected = currentInfected + 1\n",
        "infectedNodes = infectedNodes + 1\n",
        "dataArray.append(currentInfected)\n",
        "\n",
        "# κύριο μέρος του αλγορίοθμου\n",
        "while infectedNodes < N: \n",
        "  # για κάθε υπολοστή που είναι μολυσμένος, \n",
        "  # βρες έναν τυχαίο υπολογιστή\n",
        "  for i in range (currentInfected):\n",
        "    z = random.randint(0,N-1)\n",
        "    # έλεγχος αν ο υπολοστής είναι υγιής\n",
        "    # αν είναι υγιής, μόλυνέ τον και κάνε το \n",
        "    # state του ίσο με 1\n",
        "    if system[z].state == 0:\n",
        "      system[z].state = 1\n",
        "      infected_array.append(z)\n",
        "      currentInfected = currentInfected + 1\n",
        "      infectedNodes = infectedNodes + 1\n",
        "\n",
        "    # για κάθε υπολογιστή που είναι μολυσμένος,\n",
        "    # μείωσε το timestep του\n",
        "    for inf in infected_array:\n",
        "      system[inf].timestep -= 1\n",
        "      # αν το timestep είναι ίσο με 0 \n",
        "      # άλλαξε την κατάστασή του σε 2\n",
        "      # και κάνε τον να έχει ανοσία\n",
        "      if system[inf].timestep == 0:\n",
        "        system[inf].state = 2\n",
        "        immune_nodes += 1\n",
        "\n",
        "  immune_array.append(immune_nodes)\n",
        "  dataArray.append(infectedNodes)\n",
        "\n"
      ],
      "metadata": {
        "id": "7kWuOeME1ebj"
      },
      "execution_count": 20,
      "outputs": []
    },
    {
      "cell_type": "code",
      "source": [
        "# διάγραμμα που δείχνει το πλήθος των μολυσμένων σε κάθε timestep\n",
        "print(\"\\n\")\n",
        "plt.plot(dataArray)\n",
        "plt.title(\"Infected per Step\")\n",
        "plt.show()\n",
        "\n",
        "# διάγραμμα που δείχνει το πλήθος των immune σε κάθε timestep\n",
        "print(\"\\n \")\n",
        "plt.plot(immune_array)\n",
        "plt.title(\"Immune computers\")\n",
        "plt.show()\n",
        "\n",
        "print(\"\\n\")\n",
        "## διάγραμμα που δείχνει το πλήθος των μολυσμένων και τους immune σε κάθε timestep\n",
        "plt.plot(dataArray, label = \"Infected\")\n",
        "plt.plot(immune_array, label = \"Immune\")\n",
        "plt.legend()\n",
        "plt.show()"
      ],
      "metadata": {
        "colab": {
          "base_uri": "https://localhost:8080/",
          "height": 897
        },
        "id": "vIEEK_-9j8XZ",
        "outputId": "c38ade6b-3b8f-4b3e-f8c0-689ce6474029"
      },
      "execution_count": 21,
      "outputs": [
        {
          "output_type": "stream",
          "name": "stdout",
          "text": [
            "\n",
            "\n"
          ]
        },
        {
          "output_type": "display_data",
          "data": {
            "image/png": "[encoded data removed]",
            "text/plain": [
              "<Figure size 432x288 with 1 Axes>"
            ]
          },
          "metadata": {
            "needs_background": "light"
          }
        },
        {
          "output_type": "stream",
          "name": "stdout",
          "text": [
            "\n",
            " \n"
          ]
        },
        {
          "output_type": "display_data",
          "data": {
            "image/png": "[encoded data removed]",
            "text/plain": [
              "<Figure size 432x288 with 1 Axes>"
            ]
          },
          "metadata": {
            "needs_background": "light"
          }
        },
        {
          "output_type": "stream",
          "name": "stdout",
          "text": [
            "\n",
            "\n"
          ]
        },
        {
          "output_type": "display_data",
          "data": {
            "image/png": "[encoded data removed]",
            "text/plain": [
              "<Figure size 432x288 with 1 Axes>"
            ]
          },
          "metadata": {
            "needs_background": "light"
          }
        }
      ]
    },
    {
      "cell_type": "markdown",
      "source": [
        "# Εργαστήριο 4 (8.11.2021)\n",
        "\n",
        "1. Χρησιμοποιώντας μέρος του κώδικα προηγούμενου εργαστηρίου που αφορούσε στη\n",
        "μετάδοση κακόβουλου λογισμικού σε δίκτυο, υλοποιήστε τη διάδοση της πληροφορίας για Ν=20. Το πείραμα ξεκινά με ένα τυχαίο αισθητήρα να λαμβάνει τη σχετική πληροφορία (π.χ. ύπαρξη πυρκαγιάς). Η πληροφορία μεταδίδεται πάντα (πιθανότητα 100%) από 1 (ένα) και σε 2 μόνο 1 (ένα) αισθητήρα για κάθε χρονική στιγμή t. Να αποθηκεύσετε σε αρχείο τον αριθμό των αισθητήρων που λαμβάνουν την πληροφορία σε κάθε χρονική στιγμή t και να απεικονίσετε τα σχετικά αποτελέσματα.\n",
        "\n",
        "2. Να εκτελέσετε το παραπάνω πείραμα για πιθανότητα μετάδοσης 30%, 50%, 80% και να\n",
        "απεικονίσετε γραφικά τα σχετικά αποτελέσματα. Τι παρατηρείτε;\n"
      ],
      "metadata": {
        "id": "XMYJUOFCl7-B"
      }
    },
    {
      "cell_type": "code",
      "source": [
        "# μέγεθος πίνακα\n",
        "grid_size = 20\n",
        "\n",
        "# κόμβοι που έχουν λάβει την πληροφορία\n",
        "informed = 0\n",
        "\n",
        "# συνολικοί κόμβοι\n",
        "total_nodes = grid_size * grid_size \n",
        "\n",
        "# πίνακας με τους κόμβους που έχουν λάβει την πληροφορία\n",
        "informed_nodes = []\n",
        "\n",
        "# πίνακας για το simulation και αρχικοποιησή του με 0\n",
        "sim_arr = np.zeros(shape= (grid_size,grid_size) )"
      ],
      "metadata": {
        "id": "sQ5a_E3_1ej4"
      },
      "execution_count": 22,
      "outputs": []
    },
    {
      "cell_type": "code",
      "source": [
        "# βρίσκει δύο τυχαίους αριθμούς για να ξεκινήσει το simulation\n",
        "x = random.randint(0,grid_size -1)\n",
        "y = random.randint(0,grid_size -1)\n",
        "\n",
        "# άλλάζει την κατάσταση της θέσης του 2D πίνακα από 0 σε 1\n",
        "sim_arr[x][y] = 1\n",
        "informed += 1\n",
        "\n",
        "# μέχρι να ενημερωθούν όλοι οι κόμβοι\n",
        "while informed < total_nodes:\n",
        "  # βρες ένα τυχαίο x και ένα τυχαίο y \n",
        "  x = random.randint(0,grid_size -1)\n",
        "  y = random.randint(0,grid_size -1)\n",
        "\n",
        "  # έλεξε την κατάστασή τους και αν δεν είναι ενημερωμένοι\n",
        "  # ενημερωσέ τους\n",
        "  if sim_arr[x][y] == 0:\n",
        "    sim_arr[x][y] = 1\n",
        "    informed += 1\n",
        "\n",
        "  informed_nodes.append(informed)"
      ],
      "metadata": {
        "id": "E-9gB-Zi1enf"
      },
      "execution_count": 23,
      "outputs": []
    },
    {
      "cell_type": "code",
      "source": [
        "# εμφάνησε το διάγραμμα\n",
        "plt.plot(informed_nodes)\n",
        "plt.title(\"Informed per Step\")\n",
        "plt.show()"
      ],
      "metadata": {
        "colab": {
          "base_uri": "https://localhost:8080/",
          "height": 281
        },
        "id": "eoiw4snXqkwI",
        "outputId": "9aef0325-46f8-4749-9465-bdb5015b653c"
      },
      "execution_count": 24,
      "outputs": [
        {
          "output_type": "display_data",
          "data": {
            "image/png": "[encoded data removed]",
            "text/plain": [
              "<Figure size 432x288 with 1 Axes>"
            ]
          },
          "metadata": {
            "needs_background": "light"
          }
        }
      ]
    },
    {
      "cell_type": "markdown",
      "source": [
        "Υλοποίηση της περίπτωσης 2 με την ύπαρξη πιθανότητας"
      ],
      "metadata": {
        "id": "Iav684WIrNqj"
      }
    },
    {
      "cell_type": "code",
      "source": [
        "# μέγεθος πίνακα\n",
        "grid_size = 20\n",
        "\n",
        "# κόμβοι που έχουν λάβει την πληροφορία\n",
        "informed = 0\n",
        "\n",
        "# συνολικοί κόμβοι\n",
        "total_nodes = grid_size * grid_size \n",
        "\n",
        "# πίνακας με τους κόμβους που έχουν λάβει την πληροφορία για κάθε πιθανότητα\n",
        "informed_nodes30 = []\n",
        "informed_nodes50 = []\n",
        "informed_nodes80 = []\n",
        "\n",
        "# πίνακας για το simulation και αρχικοποιησή του με 0\n",
        "sim_arr = np.zeros(shape= (grid_size,grid_size) )"
      ],
      "metadata": {
        "id": "zycbrPSlrUWU"
      },
      "execution_count": 25,
      "outputs": []
    },
    {
      "cell_type": "markdown",
      "source": [
        "Για την μείωση της αντιγραφής του κώδικα, έκανα μια συνάρτηση για τον υπολογισμό της πιθανότητας. Η συνάρτηση θα έχει ως παράμετρο μια μεταβλητή i η οποία αν έχει την τιμή 0 θα τρέξει το simulation με πιθανότητα 30%, αν έχει την τιμή 1, με 50% και αν έχει την τιμή 2 με 80%. \n",
        "\n",
        "\n"
      ],
      "metadata": {
        "id": "sPtDoRNCrkmG"
      }
    },
    {
      "cell_type": "code",
      "source": [
        "# συνάρτηση που επισρτέφει 0 αν ισχύει η συνθήκη και \n",
        "# 1 αν δεν ισχύει\n",
        "def calculate_possibility(i):\n",
        "  if i == 0:\n",
        "    x = random.randint(1,10)\n",
        "    if x <= 3:\n",
        "      return 0\n",
        "    else: \n",
        "      return 1\n",
        "\n",
        "  elif i == 1:\n",
        "    x = random.randint(1,10)\n",
        "    if x <= 5:\n",
        "      return 0\n",
        "    else: \n",
        "      return 1\n",
        "\n",
        "  elif i == 2:\n",
        "    x = random.randint(1,10)\n",
        "    if x <= 8:\n",
        "      return 0\n",
        "    else: \n",
        "      return 1\n",
        "      "
      ],
      "metadata": {
        "id": "My_PneTPrjIA"
      },
      "execution_count": 26,
      "outputs": []
    },
    {
      "cell_type": "code",
      "source": [
        "# βρίσκει δύο τυχαίους αριθμούς για να ξεκινήσει το simulation\n",
        "x = random.randint(0,grid_size -1)\n",
        "y = random.randint(0,grid_size -1)\n",
        "\n",
        "# άλλάζει την κατάσταση της θέσης του 2D πίνακα από 0 σε 1\n",
        "sim_arr[x][y] = 1\n",
        "informed += 1\n",
        "\n",
        "# for loop για τις 3 διαφορετικές πιθανότητες\n",
        "for i in range (3):\n",
        "  informed = 0\n",
        "  sim_arr = np.zeros(shape= (grid_size,grid_size) )\n",
        "  # μέχρι να ενημερωθούν όλοι οι κόμβοι\n",
        "  while informed < total_nodes:\n",
        "    # βρες ένα τυχαίο x και ένα τυχαίο y \n",
        "    x = random.randint(0,grid_size -1)\n",
        "    y = random.randint(0,grid_size -1)\n",
        "\n",
        "    # έλεχγος για τον υπολογισμό της πιθανότητας\n",
        "    number = calculate_possibility(i)\n",
        "    if number == 0:\n",
        "    # έλεξε την κατάστασή τους και αν δεν είναι ενημερωμένοι\n",
        "    # ενημερωσέ τους\n",
        "      if sim_arr[x][y] == 0:\n",
        "        sim_arr[x][y] = 1\n",
        "        informed += 1\n",
        "\n",
        "    # πίνακες που για κάθε μια από τις περιπτώσεις εκτέλεσης\n",
        "    # αποθηκεύουν σε διαφορετικούς πίνακες τα δεδομένα\n",
        "    if i == 0:\n",
        "      informed_nodes30.append(informed)\n",
        "    \n",
        "    elif i == 1:\n",
        "      informed_nodes50.append(informed)\n",
        "    \n",
        "    elif i == 2:\n",
        "      informed_nodes80.append(informed)\n",
        "    "
      ],
      "metadata": {
        "id": "XOpDhYSErUat"
      },
      "execution_count": 27,
      "outputs": []
    },
    {
      "cell_type": "code",
      "source": [
        "# διάγραμμα που δείχνει για την κάθε πιθανότητα την μετάδοση πληροφορίας\n",
        "plt.plot(informed_nodes30, label = \"30%\")\n",
        "plt.plot(informed_nodes50, label = \"50%\")\n",
        "plt.plot(informed_nodes80, label = \"80%\")\n",
        "plt.legend()\n",
        "plt.show()"
      ],
      "metadata": {
        "colab": {
          "base_uri": "https://localhost:8080/",
          "height": 265
        },
        "id": "3DbLWZ5XrUe3",
        "outputId": "87dbe08b-b64c-4889-ac18-62cf63ae1574"
      },
      "execution_count": 28,
      "outputs": [
        {
          "output_type": "display_data",
          "data": {
            "image/png": "[encoded data removed]",
            "text/plain": [
              "<Figure size 432x288 with 1 Axes>"
            ]
          },
          "metadata": {
            "needs_background": "light"
          }
        }
      ]
    },
    {
      "cell_type": "markdown",
      "source": [
        "# Εργαστήριο 5 (21.11.2021)\n",
        "\n",
        "Χρησιμοποιώντας μέρος του κώδικα προηγούμενου εργαστηρίου που αφορούσε στη μετάδοση κακόβουλου λογισμικού σε δίκτυο, υλοποιήστε τη διάδοση της πληροφορίας για Ν=20. Το πείραμα ξεκινά με ένα τυχαίο αισθητήρα να λαμβάνει τη σχετική πληροφορία (π.χ. ύπαρξη πυρκαγιάς). \n",
        "\n",
        "Η πληροφορία μεταδίδεται πάντα (πιθανότητα 100%) από 1 (ένα) και σε μόνο 1 (ένα) αισθητήρα για κάθε χρονική στιγμή t. Να αποθηκεύσετε σε αρχείο τον αριθμό των αισθητήρων που λαμβάνουν την πληροφορία σε κάθε χρονική στιγμή t και να απεικονίσετε τα σχετικά αποτελέσματα. \n",
        "\n",
        "**Ερώτημα:** Να εκτελέσετε το παραπάνω πείραμα για Ν=5, Ν=10, Ν=30, Ν=50 και να απεικονίσετε τα σχετικά αποτελέσματα για την κανονικοποιημένη καταστατική μεταβλητή α=Ι/Ν. Τι παρατηρείτε;"
      ],
      "metadata": {
        "id": "2ggnQwqFw-lT"
      }
    },
    {
      "cell_type": "code",
      "source": [
        "# μέγεθος πίνακα\n",
        "grid_size = 0\n",
        "\n",
        "# κόμβοι που έχουν λάβει την πληροφορία\n",
        "informed = 0\n",
        "\n",
        "# συνολικοί κόμβοι\n",
        "total_nodes = grid_size * grid_size \n",
        "\n",
        "# πίνακας με τους κόμβους που έχουν λάβει την πληροφορία για κάθε πιθανότητα\n",
        "informed_nodes5 = []\n",
        "informed_nodes10 = []\n",
        "informed_nodes30 = []\n",
        "informed_nodes30 = []\n",
        "\n",
        "# πίνακας για το simulation και αρχικοποιησή του με 0\n",
        "sim_arr = np.zeros(shape= (grid_size,grid_size) )"
      ],
      "metadata": {
        "id": "D2vHlP2xwALG"
      },
      "execution_count": 29,
      "outputs": []
    },
    {
      "cell_type": "code",
      "source": [
        "# def calculate_grid_size(i):\n",
        "#   if i == 0:\n",
        "#     grid_size = 5   \n",
        "#     return grid_size\n",
        "\n",
        "#   if i == 1:\n",
        "#     grid_size = 10\n",
        "#     return grid_size\n",
        "\n",
        "#   if i == 2:\n",
        "#     grid_size = 30\n",
        "#     return grid_size\n",
        "\n",
        "#   if i == 3:\n",
        "#     grid_size = 50\n",
        "#     return grid_size"
      ],
      "metadata": {
        "id": "CAGb3xDV5wNO"
      },
      "execution_count": 30,
      "outputs": []
    },
    {
      "cell_type": "code",
      "source": [
        "informed_nodes5 = []\n",
        "\n",
        "# μέγεθος πίνακα\n",
        "grid_size = 5\n",
        "\n",
        "# κόμβοι που έχουν λάβει την πληροφορία\n",
        "informed = 0\n",
        "\n",
        "# συνολικοί κόμβοι\n",
        "total_nodes = grid_size * grid_size \n",
        "\n",
        "# πίνακας για το simulation και αρχικοποιησή του με 0\n",
        "sim_arr = np.zeros(shape= (grid_size,grid_size) )\n",
        "\n",
        "# βρίσκει δύο τυχαίους αριθμούς για να ξεκινήσει το simulation\n",
        "x = random.randint(0,grid_size -1)\n",
        "y = random.randint(0,grid_size -1)\n",
        "\n",
        "# άλλάζει την κατάσταση της θέσης του 2D πίνακα από 0 σε 1\n",
        "sim_arr[x][y] = 1\n",
        "informed += 1\n",
        "\n",
        "# μέχρι να ενημερωθούν όλοι οι κόμβοι\n",
        "while informed < total_nodes:\n",
        "  # βρες ένα τυχαίο x και ένα τυχαίο y \n",
        "  x = random.randint(0,grid_size -1)\n",
        "  y = random.randint(0,grid_size -1)\n",
        "\n",
        "  # έλεξε την κατάστασή τους και αν δεν είναι ενημερωμένοι\n",
        "  # ενημερωσέ τους\n",
        "  if sim_arr[x][y] == 0:\n",
        "    sim_arr[x][y] = 1\n",
        "    informed += 1\n",
        "\n",
        "  informed_nodes5.append(informed)\n"
      ],
      "metadata": {
        "id": "CuhcT9rXwAPO"
      },
      "execution_count": 31,
      "outputs": []
    },
    {
      "cell_type": "code",
      "source": [
        "informed_nodes10 = []\n",
        "\n",
        "# μέγεθος πίνακα\n",
        "grid_size = 10\n",
        "\n",
        "# κόμβοι που έχουν λάβει την πληροφορία\n",
        "informed = 0\n",
        "\n",
        "# συνολικοί κόμβοι\n",
        "total_nodes = grid_size * grid_size \n",
        "\n",
        "# πίνακας για το simulation και αρχικοποιησή του με 0\n",
        "sim_arr = np.zeros(shape= (grid_size,grid_size) )\n",
        "\n",
        "# βρίσκει δύο τυχαίους αριθμούς για να ξεκινήσει το simulation\n",
        "x = random.randint(0,grid_size -1)\n",
        "y = random.randint(0,grid_size -1)\n",
        "\n",
        "# άλλάζει την κατάσταση της θέσης του 2D πίνακα από 0 σε 1\n",
        "sim_arr[x][y] = 1\n",
        "informed += 1\n",
        "\n",
        "# μέχρι να ενημερωθούν όλοι οι κόμβοι\n",
        "while informed < total_nodes:\n",
        "  # βρες ένα τυχαίο x και ένα τυχαίο y \n",
        "  x = random.randint(0,grid_size -1)\n",
        "  y = random.randint(0,grid_size -1)\n",
        "\n",
        "  # έλεξε την κατάστασή τους και αν δεν είναι ενημερωμένοι\n",
        "  # ενημερωσέ τους\n",
        "  if sim_arr[x][y] == 0:\n",
        "    sim_arr[x][y] = 1\n",
        "    informed += 1\n",
        "\n",
        "  informed_nodes10.append(informed)\n"
      ],
      "metadata": {
        "id": "gMM3-pvS-YXz"
      },
      "execution_count": 32,
      "outputs": []
    },
    {
      "cell_type": "code",
      "source": [
        "informed_nodes30 = []\n",
        "\n",
        "# μέγεθος πίνακα\n",
        "grid_size = 30\n",
        "\n",
        "# κόμβοι που έχουν λάβει την πληροφορία\n",
        "informed = 0\n",
        "\n",
        "# συνολικοί κόμβοι\n",
        "total_nodes = grid_size * grid_size \n",
        "\n",
        "# πίνακας για το simulation και αρχικοποιησή του με 0\n",
        "sim_arr = np.zeros(shape= (grid_size,grid_size) )\n",
        "\n",
        "# βρίσκει δύο τυχαίους αριθμούς για να ξεκινήσει το simulation\n",
        "x = random.randint(0,grid_size -1)\n",
        "y = random.randint(0,grid_size -1)\n",
        "\n",
        "# άλλάζει την κατάσταση της θέσης του 2D πίνακα από 0 σε 1\n",
        "sim_arr[x][y] = 1\n",
        "informed += 1\n",
        "\n",
        "# μέχρι να ενημερωθούν όλοι οι κόμβοι\n",
        "while informed < total_nodes:\n",
        "  # βρες ένα τυχαίο x και ένα τυχαίο y \n",
        "  x = random.randint(0,grid_size -1)\n",
        "  y = random.randint(0,grid_size -1)\n",
        "\n",
        "  # έλεξε την κατάστασή τους και αν δεν είναι ενημερωμένοι\n",
        "  # ενημερωσέ τους\n",
        "  if sim_arr[x][y] == 0:\n",
        "    sim_arr[x][y] = 1\n",
        "    informed += 1\n",
        "\n",
        "  informed_nodes30.append(informed)\n"
      ],
      "metadata": {
        "id": "myqWiNfS-Yib"
      },
      "execution_count": 33,
      "outputs": []
    },
    {
      "cell_type": "code",
      "source": [
        "informed_nodes50 = []\n",
        "\n",
        "# μέγεθος πίνακα\n",
        "grid_size = 50\n",
        "\n",
        "# κόμβοι που έχουν λάβει την πληροφορία\n",
        "informed = 0\n",
        "\n",
        "# συνολικοί κόμβοι\n",
        "total_nodes = grid_size * grid_size \n",
        "\n",
        "# πίνακας για το simulation και αρχικοποιησή του με 0\n",
        "sim_arr = np.zeros(shape= (grid_size,grid_size) )\n",
        "\n",
        "# βρίσκει δύο τυχαίους αριθμούς για να ξεκινήσει το simulation\n",
        "x = random.randint(0,grid_size -1)\n",
        "y = random.randint(0,grid_size -1)\n",
        "\n",
        "# άλλάζει την κατάσταση της θέσης του 2D πίνακα από 0 σε 1\n",
        "sim_arr[x][y] = 1\n",
        "informed += 1\n",
        "\n",
        "# μέχρι να ενημερωθούν όλοι οι κόμβοι\n",
        "while informed < total_nodes:\n",
        "  # βρες ένα τυχαίο x και ένα τυχαίο y \n",
        "  x = random.randint(0,grid_size -1)\n",
        "  y = random.randint(0,grid_size -1)\n",
        "\n",
        "  # έλεξε την κατάστασή τους και αν δεν είναι ενημερωμένοι\n",
        "  # ενημερωσέ τους\n",
        "  if sim_arr[x][y] == 0:\n",
        "    sim_arr[x][y] = 1\n",
        "    informed += 1\n",
        "\n",
        "  informed_nodes50.append(informed)\n"
      ],
      "metadata": {
        "id": "jsyY5JWT-Yrb"
      },
      "execution_count": 34,
      "outputs": []
    },
    {
      "cell_type": "code",
      "source": [
        "# διάγραμμα που δείχνει για την κάθε μέγεθος του πίνακα την μετάδοση πληροφορίας\n",
        "plt.plot(informed_nodes5, label = \"5\")\n",
        "plt.plot(informed_nodes10, label = \"10\")\n",
        "plt.legend()\n",
        "plt.show()\n",
        "\n",
        "\n",
        "plt.plot(informed_nodes30, label = \"30\")\n",
        "plt.plot(informed_nodes50, label = \"50\")\n",
        "plt.legend()\n",
        "plt.show()\n"
      ],
      "metadata": {
        "colab": {
          "base_uri": "https://localhost:8080/",
          "height": 513
        },
        "id": "1-u0Pr-3wATr",
        "outputId": "982be913-6a14-4a26-f053-68f92f500887"
      },
      "execution_count": 35,
      "outputs": [
        {
          "output_type": "display_data",
          "data": {
            "image/png": "[encoded data removed]",
            "text/plain": [
              "<Figure size 432x288 with 1 Axes>"
            ]
          },
          "metadata": {
            "needs_background": "light"
          }
        },
        {
          "output_type": "display_data",
          "data": {
            "image/png": "[encoded data removed]",
            "text/plain": [
              "<Figure size 432x288 with 1 Axes>"
            ]
          },
          "metadata": {
            "needs_background": "light"
          }
        }
      ]
    },
    {
      "cell_type": "markdown",
      "source": [
        "# Εργαστήριο 6 (06.12.2021)\n",
        "\n",
        "Για την προσομοίωση του OFC μοντέλου απαιτούνται τρεις δισδιάστατοι πίνακες διαστάσεων ΝxΜ: Ο πρώτος πίνακας αντιπροσωπεύει το κυψελικό αυτόματο, δηλαδή την ενδοεπιφάνεια των τεκτονικών πλακών, ο δεύτερος θα χρησιμοποιηθεί βοηθητικά για την ανακατανομή των δυνάμεων και ο τρίτος θα χρησι μοποιηθεί βοηθητικά για την μέτρηση του μεγέθους του σεισμού. Επίσης θα χρειαστεί ένας μετρητής που θα μετράει τον χρόνο, μία σταθερά που θα αντιπροσωπεύει την Fcrit και ένα αρχείο στο οποίο θα καταγράφεται η σεισμική δραστηριότητα που αναπαράγει η προσομοίωση. Πραγματοποιείται αρχικοποίηση των κελιών του πρώτου πίνακα με τυχαίες τιμές από 0 έως Fcrit = 4. Για κάθε χρονική στιγμή t, γίνεται μία αύξηση της τιμής τους κατά μια πολύ μικρή τιμή Fout=0,001 , η οποία αντιπροσωπεύει την Fout και πραγματοποιείται μηδενισμός όλων των κελιών των δύο βοηθητικών πινάκων.\n"
      ],
      "metadata": {
        "id": "k4OPAytR-EQM"
      }
    },
    {
      "cell_type": "code",
      "source": [
        "\n",
        "fout = 0.001\n",
        "\n",
        "fcrit = 4\n",
        "\n",
        "# μέγεθος του πίνακα\n",
        "grid_size = 20\n",
        "\n",
        "# πίνακας για τα simulations\n",
        "sim_arr = np.zeros(shape= (grid_size,grid_size) )\n",
        "\n",
        "# πίνακας για την οπτικοποίηση\n",
        "view_array = np.zeros(shape= (grid_size,grid_size) )\n",
        "\n"
      ],
      "metadata": {
        "id": "cw_392rBBleW"
      },
      "execution_count": 36,
      "outputs": []
    },
    {
      "cell_type": "code",
      "source": [
        "# συνάρτηση για εύρεση γειτόνων\n",
        "def find_neighbors(i, j, size):\n",
        "  neighbors = []\n",
        "  for x in range(i-1,i+2):\n",
        "    for y in range(j-1,j+2):\n",
        "      if((x >= 0) and (x <= size) and (y >= 0) and (y <= size)):\n",
        "        neighbors.append([x,y])\n",
        "\n",
        "  return neighbors"
      ],
      "metadata": {
        "id": "enMyRCjVBliz"
      },
      "execution_count": 37,
      "outputs": []
    },
    {
      "cell_type": "code",
      "source": [
        "# αρχικοποίηση του πίνακα για το simulation με τυχαίες τιμές\n",
        "for i in range( grid_size):\n",
        "  for j in range( grid_size):\n",
        "    randnum = round(random.uniform(0.1,3.99),3)\n",
        "    sim_arr[i][j] = randnum\n",
        "\n",
        "# βάζω σε ένα τυχαίο κελί την τιμή 3,999 για να ξεκινήσει το simulation \n",
        "# από το πρώτο timesteo\n",
        "x = random.randint(0, grid_size-1 )\n",
        "y = random.randint(0, grid_size-1 )\n",
        "\n",
        "sim_arr[x][y] = 3.999\n",
        "\n",
        "# τρέχω το simulation 5 φορές για μεγαλύτερη επιφάνεια του σεισμού\n",
        "for i in range (5):\n",
        "  for x in range( grid_size-1 ):\n",
        "    for y in range( grid_size-1 ):\n",
        "\n",
        "      # προστείθεται η fout σε κάθε βήμα\n",
        "      sim_arr[x][y] = sim_arr[x][y] + fout\n",
        "\n",
        "      # ελέγχει αν η τιμή του πλακιδίου είναι μεγαλύτερη \n",
        "      # ή ίση της fcrit\n",
        "      if sim_arr[x][y] >= fcrit :\n",
        "        view_array[x][y] = 1\n",
        "        \n",
        "        # ψάχνει να βρει τους γείτονες\n",
        "        neighbors = find_neighbors(x,y,grid_size)\n",
        "        \n",
        "        # για κάθε γείτονα υπολογίζει την τιμή του πλακιδίου\n",
        "        # μετά το σπάσιμο\n",
        "        for k in range (len(neighbors)):\n",
        "            possition = neighbors[k]\n",
        "            (s,t) = possition\n",
        "            add = sim_arr[x][y] * 0.25\n",
        "            sim_arr[s][t] = sim_arr[s][t] + add\n",
        "\n",
        "        # μηδενίζει την τιμή του πλακιδίου που έσπασε\n",
        "        sim_arr[x][y] = 0\n",
        "\n",
        "# εμφανίζει τον πίνακα που οπτικοποιεί το simualtion για 5 timesteps\n",
        "print(\"\\n\")\n",
        "print(view_array)"
      ],
      "metadata": {
        "colab": {
          "base_uri": "https://localhost:8080/"
        },
        "id": "sCDf04tbBlm5",
        "outputId": "9faed507-af24-4b03-9d22-cec7f0e32013"
      },
      "execution_count": 38,
      "outputs": [
        {
          "output_type": "stream",
          "name": "stdout",
          "text": [
            "\n",
            "\n",
            "[[0. 0. 0. 0. 0. 0. 0. 0. 0. 0. 0. 0. 0. 0. 0. 0. 0. 0. 0. 0.]\n",
            " [0. 0. 0. 0. 0. 0. 0. 0. 0. 0. 0. 0. 0. 0. 0. 0. 0. 0. 0. 0.]\n",
            " [0. 0. 0. 0. 0. 0. 0. 0. 0. 0. 0. 0. 0. 0. 0. 0. 0. 0. 0. 0.]\n",
            " [0. 0. 0. 0. 0. 0. 0. 0. 0. 0. 0. 0. 0. 0. 0. 0. 0. 0. 0. 0.]\n",
            " [0. 0. 0. 0. 0. 0. 0. 0. 0. 0. 0. 0. 0. 0. 0. 0. 0. 0. 0. 0.]\n",
            " [0. 0. 0. 0. 0. 0. 0. 0. 0. 0. 0. 0. 0. 0. 0. 0. 0. 0. 0. 0.]\n",
            " [0. 0. 0. 0. 0. 0. 0. 0. 0. 0. 0. 0. 0. 0. 0. 0. 0. 0. 0. 0.]\n",
            " [0. 0. 0. 0. 0. 0. 0. 0. 0. 0. 0. 0. 1. 1. 1. 1. 1. 1. 1. 0.]\n",
            " [0. 0. 0. 0. 0. 0. 0. 0. 0. 0. 1. 1. 1. 1. 1. 1. 1. 1. 1. 0.]\n",
            " [0. 0. 0. 0. 0. 0. 0. 0. 1. 1. 1. 1. 1. 1. 1. 1. 1. 1. 1. 0.]\n",
            " [0. 0. 0. 0. 0. 0. 0. 1. 1. 1. 1. 1. 1. 1. 1. 1. 1. 1. 1. 0.]\n",
            " [0. 0. 0. 0. 0. 1. 1. 1. 1. 1. 1. 1. 1. 1. 1. 1. 1. 1. 1. 0.]\n",
            " [0. 0. 0. 0. 1. 1. 1. 1. 1. 1. 1. 1. 1. 1. 1. 1. 1. 1. 1. 0.]\n",
            " [0. 0. 0. 1. 1. 1. 1. 1. 1. 1. 1. 1. 1. 1. 1. 1. 1. 1. 1. 0.]\n",
            " [0. 0. 0. 1. 1. 1. 1. 1. 1. 1. 1. 1. 1. 1. 1. 1. 1. 1. 1. 0.]\n",
            " [0. 0. 1. 1. 1. 1. 1. 1. 1. 1. 1. 1. 1. 1. 1. 1. 1. 1. 1. 0.]\n",
            " [0. 1. 1. 1. 1. 1. 1. 1. 1. 1. 1. 1. 1. 1. 1. 1. 1. 1. 1. 0.]\n",
            " [1. 1. 1. 1. 1. 1. 1. 1. 1. 1. 1. 1. 1. 1. 1. 1. 1. 1. 1. 0.]\n",
            " [1. 1. 1. 1. 1. 1. 1. 1. 1. 1. 1. 1. 1. 1. 1. 1. 1. 1. 1. 0.]\n",
            " [0. 0. 0. 0. 0. 0. 0. 0. 0. 0. 0. 0. 0. 0. 0. 0. 0. 0. 0. 0.]]\n"
          ]
        }
      ]
    },
    {
      "cell_type": "code",
      "source": [
        ""
      ],
      "metadata": {
        "id": "Xv3y5NPOBlsL"
      },
      "execution_count": 38,
      "outputs": []
    }
  ]
}