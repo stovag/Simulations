{
 "cells": [
  {
   "cell_type": "code",
   "execution_count": 4,
   "id": "0e3dcc37",
   "metadata": {},
   "outputs": [],
   "source": [
    "import random as r\n",
    "from matplotlib import pyplot as plt"
   ]
  },
  {
   "cell_type": "code",
   "execution_count": 5,
   "id": "014cb223",
   "metadata": {},
   "outputs": [],
   "source": [
    "class System:\n",
    "    def __init__(self, n, succ_rate):\n",
    "        self.n = n\n",
    "        self.succ_rate = succ_rate\n",
    "        self.informed = 0\n",
    "        self.informed_steps = []\n",
    "        self.grid = [[Node(succ_rate) for j in range(n)] for i in range(n)]               \n",
    "            \n",
    "            \n",
    "    def get_informed(self):\n",
    "        informed_nodes = []\n",
    "        for row in self.grid:\n",
    "            for node in row:\n",
    "                if node.informed_status == 1:\n",
    "                    informed_nodes.append(node)\n",
    "        return informed_nodes\n",
    "\n",
    "        \n",
    "    def data_transfer(self):                    \n",
    "        while self.informed < n**2:\n",
    "            t_i = r.randint(0, self.n-1)\n",
    "            t_j = r.randint(0, self.n-1)\n",
    "            target = self.grid[t_i][t_j]\n",
    "            die = r.randint(1, 99)\n",
    "            if die < self.succ_rate:\n",
    "                succ_dt = target.get_data()\n",
    "                self.informed += 1                \n",
    "            self.informed_steps.append(self.informed)\n",
    "            self.A = self.informed/self.n**2\n",
    "            print(len(self.informed_steps), self.informed, die, t_i, t_j, target.informed_status)\n",
    "\n",
    "            \n",
    "            \n",
    "    def __str__(self):\n",
    "        msg = \"\"\n",
    "        for i in self.grid:\n",
    "            for j in i:\n",
    "                msg += str(j.informed_status) + \" \"\n",
    "            msg += \"\\n\"\n",
    "        return msg\n",
    "    \n",
    "    def patient_zero(self):\n",
    "        p0 = self.grid[r.randint(0,self.n-1)][r.randint(0,self.n-1)]\n",
    "        p0.get_data()\n",
    "        self.informed += 1\n",
    "        self.informed_steps.append(self.informed)\n",
    "    \n"
   ]
  },
  {
   "cell_type": "code",
   "execution_count": 6,
   "id": "b8055f50",
   "metadata": {},
   "outputs": [],
   "source": [
    "class Node:\n",
    "    def __init__(self, succ_rate):\n",
    "        self.informed_status = 0  # Not informed\n",
    "        self.succ_rate = succ_rate\n",
    "        \n",
    "    def send_data(self, node):\n",
    "        attempt = node.get_data()\n",
    "        return attempt\n",
    "    \n",
    "    def get_data(self):\n",
    "        if self.informed_status == 0:\n",
    "            self.informed_status = 1\n",
    "            return True\n",
    "        return False"
   ]
  },
  {
   "cell_type": "code",
   "execution_count": 7,
   "id": "89543509",
   "metadata": {},
   "outputs": [
    {
     "name": "stdout",
     "output_type": "stream",
     "text": [
      "True\n",
      "2 2 94 3 4 1\n"
     ]
    },
    {
     "ename": "NameError",
     "evalue": "name 'grid' is not defined",
     "output_type": "error",
     "traceback": [
      "\u001b[1;31m---------------------------------------------------------------------------\u001b[0m",
      "\u001b[1;31mNameError\u001b[0m                                 Traceback (most recent call last)",
      "\u001b[1;32m<ipython-input-7-4bcff8741786>\u001b[0m in \u001b[0;36m<module>\u001b[1;34m\u001b[0m\n\u001b[0;32m      3\u001b[0m         \u001b[0msystem\u001b[0m \u001b[1;33m=\u001b[0m \u001b[0mSystem\u001b[0m\u001b[1;33m(\u001b[0m\u001b[0mn\u001b[0m\u001b[1;33m,\u001b[0m \u001b[0msucc\u001b[0m\u001b[1;33m)\u001b[0m\u001b[1;33m\u001b[0m\u001b[1;33m\u001b[0m\u001b[0m\n\u001b[0;32m      4\u001b[0m         \u001b[0msystem\u001b[0m\u001b[1;33m.\u001b[0m\u001b[0mpatient_zero\u001b[0m\u001b[1;33m(\u001b[0m\u001b[1;33m)\u001b[0m\u001b[1;33m\u001b[0m\u001b[1;33m\u001b[0m\u001b[0m\n\u001b[1;32m----> 5\u001b[1;33m         \u001b[0msystem\u001b[0m\u001b[1;33m.\u001b[0m\u001b[0mdata_transfer\u001b[0m\u001b[1;33m(\u001b[0m\u001b[1;33m)\u001b[0m\u001b[1;33m\u001b[0m\u001b[1;33m\u001b[0m\u001b[0m\n\u001b[0m\u001b[0;32m      6\u001b[0m         \u001b[0mplt\u001b[0m\u001b[1;33m.\u001b[0m\u001b[0mplot\u001b[0m\u001b[1;33m(\u001b[0m\u001b[0msystem\u001b[0m\u001b[1;33m.\u001b[0m\u001b[0minformed_steps\u001b[0m\u001b[1;33m)\u001b[0m\u001b[1;33m\u001b[0m\u001b[1;33m\u001b[0m\u001b[0m\n\u001b[0;32m      7\u001b[0m         \u001b[0mplt\u001b[0m\u001b[1;33m.\u001b[0m\u001b[0mshow\u001b[0m\u001b[1;33m(\u001b[0m\u001b[1;33m)\u001b[0m\u001b[1;33m\u001b[0m\u001b[1;33m\u001b[0m\u001b[0m\n",
      "\u001b[1;32m<ipython-input-5-27f15c3515cb>\u001b[0m in \u001b[0;36mdata_transfer\u001b[1;34m(self)\u001b[0m\n\u001b[0;32m     31\u001b[0m             \u001b[0mself\u001b[0m\u001b[1;33m.\u001b[0m\u001b[0mA\u001b[0m \u001b[1;33m=\u001b[0m \u001b[0mself\u001b[0m\u001b[1;33m.\u001b[0m\u001b[0minformed\u001b[0m\u001b[1;33m/\u001b[0m\u001b[0mself\u001b[0m\u001b[1;33m.\u001b[0m\u001b[0mn\u001b[0m\u001b[1;33m**\u001b[0m\u001b[1;36m2\u001b[0m\u001b[1;33m\u001b[0m\u001b[1;33m\u001b[0m\u001b[0m\n\u001b[0;32m     32\u001b[0m             \u001b[0mprint\u001b[0m\u001b[1;33m(\u001b[0m\u001b[0mlen\u001b[0m\u001b[1;33m(\u001b[0m\u001b[0mself\u001b[0m\u001b[1;33m.\u001b[0m\u001b[0minformed_steps\u001b[0m\u001b[1;33m)\u001b[0m\u001b[1;33m,\u001b[0m \u001b[0mself\u001b[0m\u001b[1;33m.\u001b[0m\u001b[0minformed\u001b[0m\u001b[1;33m,\u001b[0m \u001b[0mdie\u001b[0m\u001b[1;33m,\u001b[0m \u001b[0mt_i\u001b[0m\u001b[1;33m,\u001b[0m \u001b[0mt_j\u001b[0m\u001b[1;33m,\u001b[0m \u001b[0mtarget\u001b[0m\u001b[1;33m.\u001b[0m\u001b[0minformed_status\u001b[0m\u001b[1;33m)\u001b[0m\u001b[1;33m\u001b[0m\u001b[1;33m\u001b[0m\u001b[0m\n\u001b[1;32m---> 33\u001b[1;33m             \u001b[0mprint\u001b[0m\u001b[1;33m(\u001b[0m\u001b[0msum\u001b[0m\u001b[1;33m(\u001b[0m\u001b[1;33m[\u001b[0m\u001b[0mi\u001b[0m \u001b[1;32mfor\u001b[0m \u001b[0mi\u001b[0m \u001b[1;32min\u001b[0m \u001b[0mgrid\u001b[0m\u001b[1;33m]\u001b[0m\u001b[1;33m)\u001b[0m\u001b[1;33m)\u001b[0m\u001b[1;33m\u001b[0m\u001b[1;33m\u001b[0m\u001b[0m\n\u001b[0m\u001b[0;32m     34\u001b[0m \u001b[1;33m\u001b[0m\u001b[0m\n\u001b[0;32m     35\u001b[0m \u001b[1;33m\u001b[0m\u001b[0m\n",
      "\u001b[1;31mNameError\u001b[0m: name 'grid' is not defined"
     ]
    }
   ],
   "source": [
    "for n in [20]:\n",
    "    for succ in [100, 80, 30]:\n",
    "        system = System(n, succ)\n",
    "        system.patient_zero()\n",
    "        system.data_transfer()\n",
    "        plt.plot(system.informed_steps)\n",
    "        plt.show()"
   ]
  },
  {
   "cell_type": "code",
   "execution_count": null,
   "id": "89221199",
   "metadata": {},
   "outputs": [],
   "source": []
  }
 ],
 "metadata": {
  "kernelspec": {
   "display_name": "Python 3",
   "language": "python",
   "name": "python3"
  },
  "language_info": {
   "codemirror_mode": {
    "name": "ipython",
    "version": 3
   },
   "file_extension": ".py",
   "mimetype": "text/x-python",
   "name": "python",
   "nbconvert_exporter": "python",
   "pygments_lexer": "ipython3",
   "version": "3.8.8"
  }
 },
 "nbformat": 4,
 "nbformat_minor": 5
}
