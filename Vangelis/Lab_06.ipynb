{
 "cells": [
  {
   "cell_type": "code",
   "execution_count": 44,
   "id": "03fdc335",
   "metadata": {},
   "outputs": [],
   "source": [
    "import random as r\n",
    "import numpy as np\n",
    "from matplotlib import pyplot as plt"
   ]
  },
  {
   "cell_type": "code",
   "execution_count": 111,
   "id": "061412c5",
   "metadata": {},
   "outputs": [],
   "source": [
    "class System:\n",
    "    def __init__(self, n, succ_rate, radius):\n",
    "        self.n = n\n",
    "        self.succ_rate = succ_rate\n",
    "        self.radius = radius\n",
    "        self.informed = 0\n",
    "        self.informed_steps = []\n",
    "        self.grid = [[Node(succ_rate, i, j) for j in range(n)] for i in range(n)]            \n",
    "            \n",
    "    def get_informed(self):\n",
    "        informed_nodes = []\n",
    "        for row in self.grid:\n",
    "            for node in row:\n",
    "                if node.informed_status == 1:\n",
    "                    informed_nodes.append(node)\n",
    "        return informed_nodes\n",
    "\n",
    "        \n",
    "    def data_transfer(self):                    \n",
    "        while self.informed < n**2:\n",
    "            t_i = r.randint(0, self.n-1)\n",
    "            t_j = r.randint(0, self.n-1)            \n",
    "            target = self.grid[t_i][t_j]\n",
    "            die = r.randint(1, 99)\n",
    "            succ_dt = target.get_data()\n",
    "            if succ_dt:\n",
    "                self.informed += 1                \n",
    "            self.informed_steps.append(self.informed)\n",
    "            self.A = self.informed/self.n**2\n",
    "            \n",
    "            \n",
    "    def __str__(self):\n",
    "        msg = \"\"\n",
    "        for i in self.grid:\n",
    "            for j in i:\n",
    "                msg += str(j.informed_status) + \" \"\n",
    "            msg += \"\\n\"\n",
    "        return msg\n",
    "    \n",
    "    def patient_zero(self):\n",
    "        p0 = self.grid[r.randint(0,self.n-1)][r.randint(0,self.n-1)]\n",
    "        p0.get_data()\n",
    "        self.informed += 1\n",
    "        self.informed_steps.append(self.informed)\n",
    "    \n"
   ]
  },
  {
   "cell_type": "code",
   "execution_count": 112,
   "id": "5dbd8d7e",
   "metadata": {},
   "outputs": [],
   "source": [
    "class Node:\n",
    "    def __init__(self, succ_rate, i, j):\n",
    "        self.informed_status = 0  # Not informed\n",
    "        self.succ_rate = succ_rate\n",
    "        self.i = i\n",
    "        self.j = j\n",
    "        \n",
    "    def send_data(self, node):\n",
    "        attempt = node.get_data()\n",
    "        return attempt\n",
    "    \n",
    "    def get_data(self):\n",
    "        if self.informed_status == 0:\n",
    "            self.informed_status = 1\n",
    "            return True\n",
    "        return False"
   ]
  },
  {
   "cell_type": "code",
   "execution_count": 113,
   "id": "850bd95b",
   "metadata": {},
   "outputs": [
    {
     "data": {
      "image/png": "[encoded data removed]",
      "text/plain": [
       "<Figure size 432x288 with 1 Axes>"
      ]
     },
     "metadata": {
      "needs_background": "light"
     },
     "output_type": "display_data"
    }
   ],
   "source": [
    "for n in [20]:\n",
    "#     for succ in [100, 80, 30]:\n",
    "    succ = 100\n",
    "    radius = 1\n",
    "    system = System(n, succ, radius)\n",
    "    system.patient_zero()\n",
    "    system.data_transfer()\n",
    "    plt.plot(system.informed_steps)\n",
    "    plt.show()"
   ]
  },
  {
   "cell_type": "code",
   "execution_count": 21,
   "id": "a8e17083",
   "metadata": {},
   "outputs": [
    {
     "data": {
      "text/plain": [
       "400.0"
      ]
     },
     "execution_count": 21,
     "metadata": {},
     "output_type": "execute_result"
    }
   ],
   "source": [
    "import numpy as np\n",
    "grid = np.ones([20,20])\n",
    "sum(sum(grid))"
   ]
  },
  {
   "cell_type": "code",
   "execution_count": 147,
   "id": "3870e9fe",
   "metadata": {},
   "outputs": [],
   "source": [
    "class System:\n",
    "    def __init__(self, n, succ_rate, radius):\n",
    "        self.n = n\n",
    "        self.succ_rate = succ_rate\n",
    "        self.radius = radius\n",
    "        self.informed = 0\n",
    "        self.informed_steps = []\n",
    "        self.A = []\n",
    "        self.grid = [[Node(succ_rate, i, j) for j in range(n)] for i in range(n)]            \n",
    "            \n",
    "    def get_informed(self):\n",
    "        informed_nodes = []\n",
    "        for row in self.grid:\n",
    "            for node in row:\n",
    "                if node.informed_status == 1:\n",
    "                    informed_nodes.append(node)\n",
    "        return informed_nodes\n",
    "\n",
    "        \n",
    "    def data_transfer(self):                    \n",
    "        while self.informed < n**2:\n",
    "            source = self.grid[r.randint(0, self.n-1)][r.randint(0, self.n-1)]\n",
    "            neighbors = []\n",
    "            for x in range(source.i-1,source.i+2):\n",
    "                for y in range(source.j-1, source.j+2):\n",
    "                    try:\n",
    "                        neighbors.append(self.grid[x][y])\n",
    "                    except:\n",
    "                        break\n",
    "            \n",
    "            target = neighbors[r.randint(0,len(neighbors)-1)]\n",
    "            die = r.randint(1, 99)\n",
    "            succ_dt = target.get_data()\n",
    "            if succ_dt:\n",
    "                self.informed += 1                \n",
    "            self.informed_steps.append(self.informed)\n",
    "            self.A.append(self.informed/self.n**2)            \n",
    "            \n",
    "    def __str__(self):\n",
    "        msg = \"\"\n",
    "        for i in self.grid:\n",
    "            for j in i:\n",
    "                msg += str(j.informed_status) + \" \"\n",
    "            msg += \"\\n\"\n",
    "        return msg\n",
    "    \n",
    "    def get_grid(self):\n",
    "        return self.grid\n",
    "    \n",
    "    def patient_zero(self):\n",
    "        p0 = self.grid[r.randint(0,self.n-1)][r.randint(0,self.n-1)]\n",
    "        p0.get_data()\n",
    "        self.informed += 1\n",
    "        self.informed_steps.append(self.informed)\n",
    "    \n"
   ]
  },
  {
   "cell_type": "code",
   "execution_count": 148,
   "id": "52e83e95",
   "metadata": {},
   "outputs": [
    {
     "data": {
      "image/png": "[encoded data removed]",
      "text/plain": [
       "<Figure size 432x288 with 1 Axes>"
      ]
     },
     "metadata": {
      "needs_background": "light"
     },
     "output_type": "display_data"
    },
    {
     "data": {
      "image/png": "[encoded data removed]",
      "text/plain": [
       "<Figure size 432x288 with 1 Axes>"
      ]
     },
     "metadata": {
      "needs_background": "light"
     },
     "output_type": "display_data"
    }
   ],
   "source": [
    "for n in [20]:\n",
    "#     for succ in [100, 80, 30]:\n",
    "    succ = 100\n",
    "    radius = 1\n",
    "    system = System(n, succ, radius)\n",
    "    system.patient_zero()\n",
    "    system.data_transfer()\n",
    "    plt.plot(system.informed_steps)\n",
    "    plt.show()\n",
    "    plt.plot(system.A)"
   ]
  },
  {
   "cell_type": "code",
   "execution_count": null,
   "id": "34c21994",
   "metadata": {},
   "outputs": [],
   "source": []
  }
 ],
 "metadata": {
  "kernelspec": {
   "display_name": "Python 3",
   "language": "python",
   "name": "python3"
  },
  "language_info": {
   "codemirror_mode": {
    "name": "ipython",
    "version": 3
   },
   "file_extension": ".py",
   "mimetype": "text/x-python",
   "name": "python",
   "nbconvert_exporter": "python",
   "pygments_lexer": "ipython3",
   "version": "3.8.8"
  }
 },
 "nbformat": 4,
 "nbformat_minor": 5
}
